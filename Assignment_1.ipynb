{
 "cells": [
  {
   "cell_type": "markdown",
   "id": "87897ee7",
   "metadata": {},
   "source": [
    "## Assignment No. 1\n",
    "\n",
    "1. Values are : 'hello',-87.8,6\n",
    "   opraters   : *,-,/,+\n",
    "   \n",
    "2. A string is immutable data type while a variable(whether int or float)can be changed(overwritten)\n",
    "\n",
    "3. int, float and string are three basic data type which are dynamically identified at runtime \n",
    "\n",
    "4. expression is made up variables and oprators,on execution they give some result.The result may be a value(int,float,string)    or boolean expression(True,False,None)\n",
    "\n",
    "5. A statement looks for certain condition while an expession evaluates to some value\n",
    "\n",
    "6. 22\n",
    "\n",
    "7. spamspamspam,spamspamspam\n",
    "\n",
    "8. A variable name cannot start with a digit\n",
    "9. int(),float(),str()\n",
    "10. We cannot concatenate integer to a string, to do so an integer should be enclosed whithin the quotes"
   ]
  }
 ],
 "metadata": {
  "kernelspec": {
   "display_name": "Python 3 (ipykernel)",
   "language": "python",
   "name": "python3"
  },
  "language_info": {
   "codemirror_mode": {
    "name": "ipython",
    "version": 3
   },
   "file_extension": ".py",
   "mimetype": "text/x-python",
   "name": "python",
   "nbconvert_exporter": "python",
   "pygments_lexer": "ipython3",
   "version": "3.9.12"
  }
 },
 "nbformat": 4,
 "nbformat_minor": 5
}
